{
 "cells": [
  {
   "cell_type": "markdown",
   "id": "352dd2e3",
   "metadata": {},
   "source": [
    "### Q1\n",
    "\n",
    "Define a python function that calculate the perimeter of the rectangle\n",
    "\n",
    "Formular\n",
    "\n",
    "formular => 2 X length + 2 X Width"
   ]
  },
  {
   "cell_type": "markdown",
   "id": "a56ccec8",
   "metadata": {},
   "source": [
    "### Q2\n",
    "Define the function to calculate the area of a circle. Round the answer to 3 decimal places.\n",
    "\n",
    "**Preamble**\n",
    " - Take pi as 22/7\n",
    " - formular pi x r ** 2"
   ]
  },
  {
   "cell_type": "markdown",
   "id": "be5a6965",
   "metadata": {},
   "source": [
    "### Q3\n",
    "Define a function that takes a list of numbers and print out the **mean**, **median** and **mode**.\n",
    "\n",
    "- Test your function with the list b\n",
    "\n",
    "`b = [2,3,4,6,7,3,4,3,2,1,3]`"
   ]
  },
  {
   "cell_type": "markdown",
   "id": "3313ab10",
   "metadata": {},
   "source": [
    "### Q4\n",
    "Define a function that prints out the list of the first 20 prime numbers"
   ]
  },
  {
   "cell_type": "markdown",
   "id": "ef1c5863",
   "metadata": {},
   "source": [
    "#### Q5\n",
    "Define a function that takes a list of strings and print out the string and the length of the string.\n",
    "\n",
    "**Example of expected output**\n",
    "\n",
    "{\"Kofi\":4,\n",
    "\"Ama\":3,\n",
    "\"Sedem\":5}"
   ]
  },
  {
   "cell_type": "markdown",
   "id": "5072c8d8",
   "metadata": {},
   "source": [
    "### Q6\n",
    "Define a function that takes a list of strings and numbers and print out only the strings and the position of the strings.\n",
    "\n",
    "**Preamble**\n",
    "\n",
    "names = ['sedem', 'Kofi', 'kobla']\n",
    "\n",
    "**Expected Output**\n",
    "\n",
    "{'sedem': P0, 'Kofi': P1, 'kobla': P2}"
   ]
  },
  {
   "cell_type": "markdown",
   "id": "5593b665",
   "metadata": {},
   "source": [
    "### Q7\n",
    "Define a function that returns whether the sum of a person age and person's date of birth equals 2023\n",
    "\n",
    "**Preamble**\n",
    "\n",
    "2001 + 22 => True\n",
    "\n",
    "2002 + 5 => False"
   ]
  },
  {
   "cell_type": "markdown",
   "id": "f831e652",
   "metadata": {},
   "source": [
    "### Q8\n",
    "Define a function that determine whether a particular year is a **decade**, the output should be a boolean (True or False)\n"
   ]
  },
  {
   "cell_type": "markdown",
   "id": "211c19e3",
   "metadata": {},
   "source": [
    "### Q9\n",
    "Define a function that contains a list of strings and punctuations,the output should on return the list of punctuations.\n"
   ]
  },
  {
   "cell_type": "markdown",
   "id": "34bae9ec",
   "metadata": {},
   "source": [
    "### Q10\n",
    "\n",
    "Define a lambda function that print out the cubic root of a list of numbers"
   ]
  },
  {
   "cell_type": "markdown",
   "id": "37974632",
   "metadata": {},
   "source": [
    "### Q11\n",
    "Define a lambda function that print out the cube of a list of numbers"
   ]
  },
  {
   "cell_type": "markdown",
   "id": "b1522dbb",
   "metadata": {},
   "source": [
    "### Q12\n",
    "Define a function that take a list of list of numbers and return a list that contains the average of each sublist using map."
   ]
  },
  {
   "cell_type": "markdown",
   "id": "0fd5cd06",
   "metadata": {},
   "source": [
    "### Q13\n",
    "Define a function that takes a list of strings and filter out strings that are upper case."
   ]
  },
  {
   "cell_type": "markdown",
   "id": "d0dddd17",
   "metadata": {},
   "source": [
    "### Q14\n",
    "Define a function that takes a list of numbers and print out the numbers which are prime in the list."
   ]
  },
  {
   "cell_type": "markdown",
   "id": "240741dc",
   "metadata": {},
   "source": [
    "### Q15\n",
    "Define a function that take a list of strings and return a zip of each string and length of a string."
   ]
  },
  {
   "cell_type": "markdown",
   "id": "44a1339f",
   "metadata": {},
   "source": [
    "### Q16\n",
    "Define a function that takes in a number and return the first 12 multiples of the the number.\n",
    "\n",
    "Expected Output\n",
    "\n",
    "2 X 1 = 2\n",
    "\n",
    "to\n",
    "\n",
    "2 X 12 = 24"
   ]
  },
  {
   "cell_type": "markdown",
   "id": "cd63dd99",
   "metadata": {},
   "source": [
    "### Q17\n",
    "Write a Python function to find the maximum of three numbers.\n",
    "\n",
    "**Do not use the max function**"
   ]
  },
  {
   "cell_type": "markdown",
   "id": "67520c0b",
   "metadata": {},
   "source": [
    "### Q18\n",
    "Write a Python function to multiply all the numbers in a list."
   ]
  },
  {
   "cell_type": "markdown",
   "id": "05891582",
   "metadata": {},
   "source": [
    "### Q19\n",
    "Write a Python program to reverse a string"
   ]
  },
  {
   "cell_type": "markdown",
   "id": "b9025ac8",
   "metadata": {},
   "source": [
    "### Q20\n",
    "Write a python function to return the length of a string."
   ]
  },
  {
   "cell_type": "markdown",
   "id": "8d1ee176",
   "metadata": {},
   "source": [
    "Have a lovely coding weekend"
   ]
  },
  {
   "cell_type": "code",
   "execution_count": 2,
   "id": "dcc52cd3",
   "metadata": {},
   "outputs": [
    {
     "data": {
      "text/plain": [
       "30"
      ]
     },
     "execution_count": 2,
     "metadata": {},
     "output_type": "execute_result"
    }
   ],
   "source": [
    "#Q1\n",
    "\n",
    "def calculate_perimeter(length, width):\n",
    "    perimeter = 2 * length + 2 * width\n",
    "    return perimeter\n",
    "calculate_perimeter(10, 5)\n",
    "\n"
   ]
  },
  {
   "cell_type": "code",
   "execution_count": 3,
   "id": "854bc060",
   "metadata": {},
   "outputs": [
    {
     "data": {
      "text/plain": [
       "113.143"
      ]
     },
     "execution_count": 3,
     "metadata": {},
     "output_type": "execute_result"
    }
   ],
   "source": [
    "#Q2\n",
    "\n",
    "def calculate_circle_area(radius):\n",
    "    pi = 22/7\n",
    "    area = pi * (radius ** 2)\n",
    "    return round(area, 3)\n",
    "calculate_circle_area(6)\n"
   ]
  },
  {
   "cell_type": "code",
   "execution_count": 14,
   "id": "e0d5adfd",
   "metadata": {},
   "outputs": [],
   "source": [
    "#Q3\n",
    "\n",
    "def calculate_stats(numbers):\n",
    "    # Calculate the mean\n",
    "    mean = sum(numbers) / len(numbers)\n",
    "\n",
    "    # Calculate the median\n",
    "    sorted_numbers = sorted(numbers)\n",
    "    middle = len(sorted_numbers) // 2\n",
    "    if len(sorted_numbers) % 2 == 0:\n",
    "        median = (sorted_numbers[middle - 1] + sorted_numbers[middle]) / 2\n",
    "    else:\n",
    "        median = sorted_numbers[middle]\n",
    "\n",
    "    # Calculate the mode\n",
    "    freq = {}\n",
    "    for num in numbers:\n",
    "        if num in freq:\n",
    "            freq[num] += 1\n",
    "        else:\n",
    "            freq[num] = 1\n",
    "\n",
    "    max_freq = max(freq.values())\n",
    "    mode = [num for num, count in freq.items() if count == max_freq]\n",
    "    \n",
    "    "
   ]
  },
  {
   "cell_type": "code",
   "execution_count": 17,
   "id": "f8303fea",
   "metadata": {},
   "outputs": [
    {
     "name": "stdout",
     "output_type": "stream",
     "text": [
      "Mean: 3.45\n",
      "Median: 3\n",
      "Mode: 3\n"
     ]
    }
   ],
   "source": [
    "def print_statistics(lst):\n",
    "        n = len(lst)\n",
    "        mean = sum(lst) / n\n",
    "        median = sorted(lst)[n // 2]\n",
    "        mode = max(set(lst), key=lst.count)\n",
    "        print(\"Mean: {:.2f}\".format(mean))\n",
    "        print(\"Median:\", median)\n",
    "        print(\"Mode:\", mode)\n",
    "\n",
    "b = [2, 3, 4, 6, 7, 3, 4, 3, 2, 1, 3]\n",
    "print_statistics(b)\n",
    "    "
   ]
  },
  {
   "cell_type": "code",
   "execution_count": 18,
   "id": "10bd5e3f",
   "metadata": {},
   "outputs": [],
   "source": [
    "#Q4\n",
    "\n",
    "def print_first_20_primes():\n",
    "    \n",
    "    primes = []\n",
    "    num = 2 \n",
    "    while len(primes) < 20:  \n",
    "        \n",
    "        is_prime = True\n",
    "        for i in range(2, num):\n",
    "            if num % i == 0:\n",
    "                is_prime = False\n",
    "                break\n",
    "        if is_prime:\n",
    "            primes.append(num)\n",
    "        num += 1  \n",
    "    print(primes)\n"
   ]
  },
  {
   "cell_type": "code",
   "execution_count": 19,
   "id": "a884ea27",
   "metadata": {},
   "outputs": [
    {
     "name": "stdout",
     "output_type": "stream",
     "text": [
      "[2, 3, 5, 7, 11, 13, 17, 19, 23, 29, 31, 37, 41, 43, 47, 53, 59, 61, 67, 71]\n"
     ]
    }
   ],
   "source": [
    "print_first_20_primes()"
   ]
  },
  {
   "cell_type": "code",
   "execution_count": 21,
   "id": "bfb7a846",
   "metadata": {},
   "outputs": [],
   "source": [
    "#Q5\n",
    "\n",
    "def print_string_lengths(lst):\n",
    "    result = {}\n",
    "    for string in lst:\n",
    "        result[string] = len(string)\n",
    "    print(result)"
   ]
  },
  {
   "cell_type": "code",
   "execution_count": 23,
   "id": "020dc19b",
   "metadata": {},
   "outputs": [
    {
     "name": "stdout",
     "output_type": "stream",
     "text": [
      "{'Delecta': 7, 'Daniel': 6, 'Japheth': 7, 'Sydney': 6, 'Awuraadjoa': 10, 'Maddy': 5, 'Ato': 3, 'Kofi': 4}\n"
     ]
    }
   ],
   "source": [
    "lst = ['Delecta', 'Daniel', 'Japheth','Sydney', 'Awuraadjoa','Maddy','Ato', 'Kofi']\n",
    "print_string_lengths(lst)\n"
   ]
  },
  {
   "cell_type": "code",
   "execution_count": 25,
   "id": "7032483b",
   "metadata": {},
   "outputs": [],
   "source": [
    "#Q6\n",
    "\n",
    "def print_strings_with_positions(lst):\n",
    "    result = {}\n",
    "    for i, item in enumerate(lst):\n",
    "        if isinstance(item, str):\n",
    "            result[item] = f\"P{i}\"\n",
    "    print(result)\n",
    "\n",
    "\n",
    "\n"
   ]
  },
  {
   "cell_type": "code",
   "execution_count": 26,
   "id": "8246cc2b",
   "metadata": {},
   "outputs": [
    {
     "name": "stdout",
     "output_type": "stream",
     "text": [
      "{'Delecta': 'P0', 'Daniel': 'P1', 'Japheth': 'P2', 'Sydney': 'P3', 'Awuraadjoa': 'P4', 'Maddy': 'P5', 'Ato': 'P6', 'Kofi': 'P7'}\n"
     ]
    }
   ],
   "source": [
    "names = ['Delecta', 'Daniel', 'Japheth','Sydney', 'Awuraadjoa','Maddy','Ato', 'Kofi']\n",
    "print_strings_with_positions(names)"
   ]
  },
  {
   "cell_type": "code",
   "execution_count": 27,
   "id": "e1cf6608",
   "metadata": {},
   "outputs": [
    {
     "name": "stdout",
     "output_type": "stream",
     "text": [
      "True\n"
     ]
    }
   ],
   "source": [
    "#Q7\n",
    "\n",
    "def check_age_and_dob_sum(age, dob):\n",
    "    return age + dob == 2023\n",
    "print(check_age_and_dob_sum(22, 2001))\n"
   ]
  },
  {
   "cell_type": "code",
   "execution_count": 28,
   "id": "9e85a0cd",
   "metadata": {},
   "outputs": [
    {
     "name": "stdout",
     "output_type": "stream",
     "text": [
      "False\n"
     ]
    }
   ],
   "source": [
    "print(check_age_and_dob_sum(5, 2002))"
   ]
  },
  {
   "cell_type": "code",
   "execution_count": 29,
   "id": "0a578f2e",
   "metadata": {},
   "outputs": [
    {
     "name": "stdout",
     "output_type": "stream",
     "text": [
      "True\n"
     ]
    }
   ],
   "source": [
    "#Q8\n",
    "\n",
    "def is_decade(year):\n",
    "    return year % 10 == 0\n",
    "print(is_decade(2020))"
   ]
  },
  {
   "cell_type": "code",
   "execution_count": 30,
   "id": "0833969f",
   "metadata": {},
   "outputs": [
    {
     "name": "stdout",
     "output_type": "stream",
     "text": [
      "False\n"
     ]
    }
   ],
   "source": [
    "print(is_decade(2023))"
   ]
  },
  {
   "cell_type": "code",
   "execution_count": 31,
   "id": "35d923dd",
   "metadata": {},
   "outputs": [
    {
     "name": "stdout",
     "output_type": "stream",
     "text": [
      "True\n"
     ]
    }
   ],
   "source": [
    "print(is_decade(2050))"
   ]
  },
  {
   "cell_type": "code",
   "execution_count": 32,
   "id": "c0bd0823",
   "metadata": {},
   "outputs": [
    {
     "name": "stdout",
     "output_type": "stream",
     "text": [
      "True\n"
     ]
    }
   ],
   "source": [
    "print(is_decade(20660))"
   ]
  },
  {
   "cell_type": "code",
   "execution_count": 33,
   "id": "0d3e89d7",
   "metadata": {},
   "outputs": [],
   "source": [
    "#Q9\n",
    "\n",
    "def extract_punctuations(lst):\n",
    "    punctuations = []\n",
    "    for item in lst:\n",
    "        if isinstance(item, str):\n",
    "            for char in item:\n",
    "                if not char.isalnum() and char not in punctuations:\n",
    "                    punctuations.append(char)\n",
    "    return punctuations"
   ]
  },
  {
   "cell_type": "code",
   "execution_count": 34,
   "id": "6e0acbe9",
   "metadata": {},
   "outputs": [
    {
     "name": "stdout",
     "output_type": "stream",
     "text": [
      "['!', '-', '?', '.', '/', ';', ':']\n"
     ]
    }
   ],
   "source": [
    "lst = ['Make!', 'Excellent-', 'Code?', '...', '/take/','a!','chill;','pill:']\n",
    "print(extract_punctuations(lst))\n"
   ]
  },
  {
   "cell_type": "code",
   "execution_count": 35,
   "id": "60d60876",
   "metadata": {},
   "outputs": [
    {
     "name": "stdout",
     "output_type": "stream",
     "text": [
      "[2.0, 3.0, 3.9999999999999996, 5.0, 5.065797019100886, 5.313292845913055, 5.999999999999999]\n"
     ]
    }
   ],
   "source": [
    "#Q10\n",
    "\n",
    "cubic_root = lambda lst: [x**(1/3) for x in lst]\n",
    "\n",
    "lst = [8, 27, 64, 125,130,150,216]\n",
    "print(cubic_root(lst))"
   ]
  },
  {
   "cell_type": "code",
   "execution_count": 36,
   "id": "b75b9e4e",
   "metadata": {},
   "outputs": [
    {
     "name": "stdout",
     "output_type": "stream",
     "text": [
      "[1, 8, 1000, 216, 8, 195112, 27, 421.875]\n"
     ]
    }
   ],
   "source": [
    "#Q11\n",
    "\n",
    "cube = lambda lst: [x**3 for x in lst]\n",
    "lst = [1, 2, 10, 6,2,58,3,7.5]\n",
    "print(cube(lst))\n"
   ]
  },
  {
   "cell_type": "code",
   "execution_count": 37,
   "id": "22a42830",
   "metadata": {},
   "outputs": [
    {
     "name": "stdout",
     "output_type": "stream",
     "text": [
      "[8.666666666666666, 26.333333333333332, 50.333333333333336]\n"
     ]
    }
   ],
   "source": [
    "#Q12\n",
    "\n",
    "def sublist_average(lst):\n",
    "    averages = list(map(lambda sublist: sum(sublist) / len(sublist), lst))\n",
    "    return averages\n",
    "lst = [[1, 22, 3], [4, 59, 16], [70, 81, 0]]\n",
    "print(sublist_average(lst))\n"
   ]
  },
  {
   "cell_type": "code",
   "execution_count": 40,
   "id": "e5dc9c8f",
   "metadata": {},
   "outputs": [
    {
     "name": "stdout",
     "output_type": "stream",
     "text": [
      "['my', 'name', 'is', 'and', 'always', 'will', 'be', 'delecta adjoa manuel']\n"
     ]
    }
   ],
   "source": [
    "#Q13\n",
    "\n",
    "\n",
    "def filter_uppercase(lst):\n",
    "    filtered_list = list(filter(lambda string: string.islower(), lst))\n",
    "    return filtered_list\n",
    "\n",
    "lst = [\"my\", \"HA\",\"name\",\"LET\", \"is\", \"BA\", \"and\",\"NAME\",\"always\",\"PREACH\",\"will\",\"TELL\",\"be\",\"PRAISE\",\"delecta adjoa manuel\"]\n",
    "print(filter_uppercase(lst))\n"
   ]
  },
  {
   "cell_type": "code",
   "execution_count": 41,
   "id": "1f1d248c",
   "metadata": {},
   "outputs": [
    {
     "name": "stdout",
     "output_type": "stream",
     "text": [
      "[23, 37, 71, 10567, 617, 823]\n"
     ]
    }
   ],
   "source": [
    "#Q14\n",
    "\n",
    "def print_prime_numbers(lst):\n",
    "    def is_prime(n):\n",
    "        if n < 2:\n",
    "            return False\n",
    "        for i in range(2, int(n**0.5) + 1):\n",
    "            if n % i == 0:\n",
    "                return False\n",
    "        return True\n",
    "    prime_numbers = [num for num in lst if is_prime(num)]\n",
    "    print(prime_numbers)\n",
    "lst = [21, 23, 37, 40, 52, 63, 71, 87, 93, 10567,200,213,617,823,845,900]\n",
    "print_prime_numbers(lst)\n"
   ]
  },
  {
   "cell_type": "code",
   "execution_count": 42,
   "id": "c6827f38",
   "metadata": {},
   "outputs": [
    {
     "name": "stdout",
     "output_type": "stream",
     "text": [
      "[('DeeDee', 6), ('Adjoa', 5), ('Awuraa', 6), ('Britain', 7), ('peaches', 7)]\n"
     ]
    }
   ],
   "source": [
    "#Q15\n",
    "\n",
    "def zip_string_and_length(lst):\n",
    "    zipped_list = list(zip(lst, map(len, lst)))\n",
    "    return zipped_list\n",
    "lst = [\"DeeDee\", \"Adjoa\", \"Awuraa\",\"Britain\",\"peaches\"]\n",
    "print(zip_string_and_length(lst))\n"
   ]
  },
  {
   "cell_type": "code",
   "execution_count": 43,
   "id": "8bac278d",
   "metadata": {},
   "outputs": [
    {
     "name": "stdout",
     "output_type": "stream",
     "text": [
      "21678 X 1 = 21678\n",
      "21678 X 2 = 43356\n",
      "21678 X 3 = 65034\n",
      "21678 X 4 = 86712\n",
      "21678 X 5 = 108390\n",
      "21678 X 6 = 130068\n",
      "21678 X 7 = 151746\n",
      "21678 X 8 = 173424\n",
      "21678 X 9 = 195102\n",
      "21678 X 10 = 216780\n",
      "21678 X 11 = 238458\n",
      "21678 X 12 = 260136\n"
     ]
    }
   ],
   "source": [
    "#Q16\n",
    "\n",
    "def print_multiples(n):\n",
    "    for i in range(1, 13):\n",
    "        print(f\"{n} X {i} = {n*i}\")\n",
    "n = 21678\n",
    "print_multiples(n)\n"
   ]
  },
  {
   "cell_type": "code",
   "execution_count": 44,
   "id": "8eb86501",
   "metadata": {},
   "outputs": [
    {
     "name": "stdout",
     "output_type": "stream",
     "text": [
      "5.6345679\n"
     ]
    }
   ],
   "source": [
    "#Q17\n",
    "\n",
    "def find_max(a, b, c):\n",
    "    if a > b:\n",
    "        if a > c:\n",
    "            return a\n",
    "        else:\n",
    "            return c\n",
    "    else:\n",
    "        if b > c:\n",
    "            return b\n",
    "        else:\n",
    "            return c\n",
    "print(find_max(5.6345679, 5.6345678,5.62184508))"
   ]
  },
  {
   "cell_type": "code",
   "execution_count": 45,
   "id": "88cceced",
   "metadata": {},
   "outputs": [
    {
     "name": "stdout",
     "output_type": "stream",
     "text": [
      "26147374285892472915833780355894000210911707934390182574140774274056008294241465093896\n"
     ]
    }
   ],
   "source": [
    "#Q18\n",
    "\n",
    "def multiply_list(numbers):\n",
    "    result = 1\n",
    "    for num in numbers:\n",
    "        result *= num\n",
    "    return result\n",
    "nums = [1234789, 209674927492, 3786453218590634, 4768490833768392492009, 5593392329487583958395568395857]\n",
    "print(multiply_list(nums))\n"
   ]
  },
  {
   "cell_type": "code",
   "execution_count": 47,
   "id": "a4d3bd69",
   "metadata": {},
   "outputs": [
    {
     "name": "stdout",
     "output_type": "stream",
     "text": [
      "atceleD elbatceleD elleppa'm eJ eenruoJ ennoB\n"
     ]
    }
   ],
   "source": [
    "#Q19\n",
    "\n",
    "def reverse_string(string):\n",
    "    return string[::-1]\n",
    "\n",
    "s = \"Bonne Journee Je m'appelle Delectable Delecta\"\n",
    "print(reverse_string(s))\n"
   ]
  },
  {
   "cell_type": "code",
   "execution_count": 48,
   "id": "d57c9bf4",
   "metadata": {},
   "outputs": [
    {
     "name": "stdout",
     "output_type": "stream",
     "text": [
      "228\n"
     ]
    }
   ],
   "source": [
    "#Q20\n",
    "\n",
    "def string_length(string):\n",
    "    return len(string)\n",
    "\n",
    "s = \"My name is Delecta Adjoa Manuel. I will always be happy. I will always have love. I will be wealthy. I will never be poor, broke unemployed or unhappy. I will aways have love. I will always be blessed. I will always be fulfilled\"\n",
    "print(string_length(s))\n"
   ]
  },
  {
   "cell_type": "code",
   "execution_count": null,
   "id": "03eb518c",
   "metadata": {},
   "outputs": [],
   "source": []
  }
 ],
 "metadata": {
  "kernelspec": {
   "display_name": "Python 3 (ipykernel)",
   "language": "python",
   "name": "python3"
  },
  "language_info": {
   "codemirror_mode": {
    "name": "ipython",
    "version": 3
   },
   "file_extension": ".py",
   "mimetype": "text/x-python",
   "name": "python",
   "nbconvert_exporter": "python",
   "pygments_lexer": "ipython3",
   "version": "3.9.13"
  }
 },
 "nbformat": 4,
 "nbformat_minor": 5
}
