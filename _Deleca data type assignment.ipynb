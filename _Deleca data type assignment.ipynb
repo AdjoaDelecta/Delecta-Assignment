{
 "cells": [
  {
   "cell_type": "markdown",
   "id": "1971db0e",
   "metadata": {},
   "source": [
    "# Q1\n",
    "List the basic data types in python and give one example each."
   ]
  },
  {
   "cell_type": "code",
   "execution_count": 5,
   "id": "6c25a697",
   "metadata": {},
   "outputs": [
    {
     "ename": "SyntaxError",
     "evalue": "invalid syntax (1121889829.py, line 1)",
     "output_type": "error",
     "traceback": [
      "\u001b[1;36m  File \u001b[1;32m\"C:\\Users\\Kojo Manuel\\AppData\\Local\\Temp\\ipykernel_12392\\1121889829.py\"\u001b[1;36m, line \u001b[1;32m1\u001b[0m\n\u001b[1;33m    1. Integer\u001b[0m\n\u001b[1;37m       ^\u001b[0m\n\u001b[1;31mSyntaxError\u001b[0m\u001b[1;31m:\u001b[0m invalid syntax\n"
     ]
    }
   ],
   "source": [
    " "
   ]
  },
  {
   "cell_type": "markdown",
   "id": "4a2be5ba",
   "metadata": {},
   "source": [
    "# Q2\n",
    "Change the variable x = 4539.85 to :\n",
    "\n",
    "(i) a string and assign it to a new variable y,\n",
    "\n",
    "(ii) an integer and assign it to a new variable z\n",
    "\n",
    "Print out the type of y and z."
   ]
  },
  {
   "cell_type": "code",
   "execution_count": 15,
   "id": "4f69aaca",
   "metadata": {},
   "outputs": [
    {
     "data": {
      "text/plain": [
       "int"
      ]
     },
     "execution_count": 15,
     "metadata": {},
     "output_type": "execute_result"
    }
   ],
   "source": [
    "x = 4539.85\n",
    "y = str(x)\n",
    "z = int(x)\n",
    "type(y)\n",
    "type(z)\n",
    "\n",
    "\n",
    "\n"
   ]
  },
  {
   "cell_type": "markdown",
   "id": "81a1251c",
   "metadata": {},
   "source": [
    "### Q3\n",
    "\n",
    "What data type would you use to store\n",
    "\n",
    "a. The price of car?\n",
    "float\n",
    "b. The age of a person\n",
    "Integer\n",
    "c. car plate number: plateNumber = \"AV01-AFP\"?\n",
    "String\n",
    "d. The price of fuel\n",
    "\n",
    "e. The number of students in the class\n",
    "\n",
    "f. The weight of a person\n",
    "\n",
    "g. Check whether two figures are equal\n",
    "\n",
    "i. The name of a  school\n",
    "\n",
    "j. The average result of the overall score of a student\n",
    "\n",
    "k. The total number of vote cast\n",
    "\n"
   ]
  },
  {
   "cell_type": "markdown",
   "id": "f0694362",
   "metadata": {},
   "source": [
    "### Q4\n",
    "**Thomas Partey is arguably the best player in the Black Stars. He is a great addition to the team**\n",
    "\n",
    "Split the statement above into **two statement_1** and **statement_2** such that statement_1 will be 'Thomas Partey is arguably the best player in the Black Stars' and statement_2 will be 'He is a great addition to the team'\n",
    "\n",
    "Statement:\n",
    "\n",
    "- **What is the length of statment 1?**\n",
    "-**What is the length of statment 2?**\n",
    "-**Is the length of statement 1 greater than statement 2**"
   ]
  },
  {
   "cell_type": "markdown",
   "id": "ceb46447",
   "metadata": {},
   "source": [
    "### Q5\n",
    "What values does python use to represent **True** and **False** respectively?"
   ]
  },
  {
   "cell_type": "markdown",
   "id": "e4cc9b15",
   "metadata": {},
   "source": [
    "### Q6\n",
    "Write a code to evaluate if the following statments are True or False.\n",
    "\n",
    "1. 78 is greater than 46 and less than 30 which is an odd number.\n",
    "\n",
    "2. 8-2 is an even number or 8 is a is an odd number.\n",
    "\n",
    "3. The number of characters in the word 'boostrap' is 7 and that of 'sample' is 6."
   ]
  },
  {
   "cell_type": "markdown",
   "id": "bc13f9fc",
   "metadata": {},
   "source": [
    "### Q7\n",
    "Given the following python code,\n",
    "\n",
    "`word='Hello, How are you?'`\n",
    "\n",
    "Write Python code to return the following\n",
    "\n",
    "- How\n",
    "- How are you\n",
    "- are\n",
    "- ?\n",
    "- Hello, How are you\n",
    "\n",
    "\n",
    " "
   ]
  },
  {
   "cell_type": "markdown",
   "id": "e4167de5",
   "metadata": {},
   "source": [
    "### Q8\n",
    "Given the following python code,\n",
    "\n",
    "`sentence = \"I am very excited\"`\n",
    "\n",
    "Write Python code to return \n",
    "- Convert sentence to upper case\n",
    "- Convert sentence to lower case\n",
    "- Convert sentence to title case\n",
    "- Convert sentence to list of strings\n",
    " "
   ]
  },
  {
   "cell_type": "markdown",
   "id": "4faf0134",
   "metadata": {},
   "source": [
    "### Q9\n",
    "`word = 'OneThirtyEight'`\n",
    "\n",
    "Using Python code extract the following from the variable word:\n",
    "- One\n",
    "- Thirty\n",
    "- Eight\n",
    "- OneThirty\n",
    "- ThirtyEight\n",
    "- ONETHIRTYEIGHT"
   ]
  },
  {
   "cell_type": "markdown",
   "id": "2a4eea1f",
   "metadata": {},
   "source": [
    "### Q10\n",
    "Turn Ault'Kelly into a string and assign it to a variable  called name."
   ]
  },
  {
   "cell_type": "code",
   "execution_count": 74,
   "id": "aa2f0a08",
   "metadata": {},
   "outputs": [
    {
     "ename": "TypeError",
     "evalue": "'bool' object is not callable",
     "output_type": "error",
     "traceback": [
      "\u001b[1;31m---------------------------------------------------------------------------\u001b[0m",
      "\u001b[1;31mTypeError\u001b[0m                                 Traceback (most recent call last)",
      "\u001b[1;32m~\\AppData\\Local\\Temp\\ipykernel_12392\\1846069743.py\u001b[0m in \u001b[0;36m<module>\u001b[1;34m\u001b[0m\n\u001b[0;32m      3\u001b[0m \u001b[0mInteger\u001b[0m \u001b[1;33m=\u001b[0m \u001b[1;33m-\u001b[0m\u001b[1;36m2\u001b[0m\u001b[1;33m\u001b[0m\u001b[1;33m\u001b[0m\u001b[0m\n\u001b[0;32m      4\u001b[0m \u001b[0mfloat\u001b[0m \u001b[1;33m=\u001b[0m \u001b[1;36m4.5\u001b[0m\u001b[1;33m\u001b[0m\u001b[1;33m\u001b[0m\u001b[0m\n\u001b[1;32m----> 5\u001b[1;33m \u001b[0mbool\u001b[0m \u001b[1;33m=\u001b[0m \u001b[0mbool\u001b[0m\u001b[1;33m(\u001b[0m\u001b[1;36m0\u001b[0m\u001b[1;33m)\u001b[0m\u001b[1;33m\u001b[0m\u001b[1;33m\u001b[0m\u001b[0m\n\u001b[0m\u001b[0;32m      6\u001b[0m \u001b[0mstring\u001b[0m \u001b[1;33m=\u001b[0m \u001b[1;34m'Delecta'\u001b[0m\u001b[1;33m\u001b[0m\u001b[1;33m\u001b[0m\u001b[0m\n\u001b[0;32m      7\u001b[0m \u001b[1;33m\u001b[0m\u001b[0m\n",
      "\u001b[1;31mTypeError\u001b[0m: 'bool' object is not callable"
     ]
    }
   ],
   "source": [
    "# Q1\n",
    "## ## List the basic data types in python and give one example each.\n",
    "Integer = -2 \n",
    "float = 4.5\n",
    "bool = bool(0)\n",
    "string = 'Delecta'   \n",
    "\n",
    "\n",
    "\n",
    "    \n",
    "    "
   ]
  },
  {
   "cell_type": "code",
   "execution_count": 75,
   "id": "bc55adda",
   "metadata": {},
   "outputs": [],
   "source": [
    "# Q2\n",
    "## Change the variable x = 4539.85 to :\n",
    "\n",
    "###(i) a string and assign it to a new variable y,\n",
    "\n",
    "####(ii) an integer and assign it to a new variable z\n",
    "\n",
    "####Print out the type of y and z.\n"
   ]
  },
  {
   "cell_type": "code",
   "execution_count": 23,
   "id": "d984a4f1",
   "metadata": {},
   "outputs": [
    {
     "data": {
      "text/plain": [
       "'4539.85'"
      ]
     },
     "execution_count": 23,
     "metadata": {},
     "output_type": "execute_result"
    }
   ],
   "source": [
    "x = 4539.85\n",
    "y = str(x)\n",
    "z = int(x)\n",
    "y"
   ]
  },
  {
   "cell_type": "code",
   "execution_count": 24,
   "id": "4c69b0a7",
   "metadata": {},
   "outputs": [
    {
     "data": {
      "text/plain": [
       "4539"
      ]
     },
     "execution_count": 24,
     "metadata": {},
     "output_type": "execute_result"
    }
   ],
   "source": [
    "z"
   ]
  },
  {
   "cell_type": "code",
   "execution_count": 25,
   "id": "568abbeb",
   "metadata": {},
   "outputs": [
    {
     "data": {
      "text/plain": [
       "str"
      ]
     },
     "execution_count": 25,
     "metadata": {},
     "output_type": "execute_result"
    }
   ],
   "source": [
    "type(y)"
   ]
  },
  {
   "cell_type": "code",
   "execution_count": 26,
   "id": "8a322d91",
   "metadata": {},
   "outputs": [
    {
     "data": {
      "text/plain": [
       "int"
      ]
     },
     "execution_count": 26,
     "metadata": {},
     "output_type": "execute_result"
    }
   ],
   "source": [
    "type(z)"
   ]
  },
  {
   "cell_type": "code",
   "execution_count": 27,
   "id": "dd82f38d",
   "metadata": {},
   "outputs": [
    {
     "ename": "SyntaxError",
     "evalue": "invalid syntax (4030998003.py, line 7)",
     "output_type": "error",
     "traceback": [
      "\u001b[1;36m  File \u001b[1;32m\"C:\\Users\\Kojo Manuel\\AppData\\Local\\Temp\\ipykernel_12392\\4030998003.py\"\u001b[1;36m, line \u001b[1;32m7\u001b[0m\n\u001b[1;33m    b. The age of a person\u001b[0m\n\u001b[1;37m           ^\u001b[0m\n\u001b[1;31mSyntaxError\u001b[0m\u001b[1;31m:\u001b[0m invalid syntax\n"
     ]
    }
   ],
   "source": [
    "### Q3\n",
    "\n",
    "# What data type would you use to store\n",
    "\n",
    "a. The price of car?\n",
    "float\n",
    "b. The age of a person\n",
    "integer\n",
    "c. car plate number: plateNumber = \"AV01-AFP\"?\n",
    "String\n",
    "d. The price of fuel\n",
    "float\n",
    "e. The number of students in the class\n",
    "integer\n",
    "f. The weight of a person\n",
    "float\n",
    "g. Check whether two figures are equal\n",
    "boolean\n",
    "i. The name of a  school\n",
    "string\n",
    "j. The average result of the overall score of a student\n",
    "float\n",
    "k. The total number of vote cast\n",
    "integer\n"
   ]
  },
  {
   "cell_type": "code",
   "execution_count": 28,
   "id": "58f41366",
   "metadata": {},
   "outputs": [],
   "source": [
    "##Thomas Partey is arguably the best player in the Black Stars. He is a great addition to the team\n",
    "\n",
    "#Split the statement above into two statement_1 and statement_2 such that statement_1 will be 'Thomas Partey is arguably the best player in the Black Stars' and statement_2 will be 'He is a great addition to the team'\n",
    "\n",
    "#Statement:\n",
    "\n",
    "#What is the length of statment 1?\n",
    "#What is the length of statment 2?\n",
    "#Is the length of statement 1 greater than statement 2"
   ]
  },
  {
   "cell_type": "code",
   "execution_count": 29,
   "id": "524b4ba6",
   "metadata": {},
   "outputs": [
    {
     "data": {
      "text/plain": [
       "'Thomas Partey is arguably the best player in the Black Stars.'"
      ]
     },
     "execution_count": 29,
     "metadata": {},
     "output_type": "execute_result"
    }
   ],
   "source": [
    "my_sentence = [\"Thomas Partey is arguably the best player in the Black Stars.\",\"He is a great addition to the team\"]\n",
    "statement_1 = my_sentence[0]\n",
    "statement_1"
   ]
  },
  {
   "cell_type": "code",
   "execution_count": 30,
   "id": "5bfbb9e8",
   "metadata": {},
   "outputs": [
    {
     "data": {
      "text/plain": [
       "'He is a great addition to the team'"
      ]
     },
     "execution_count": 30,
     "metadata": {},
     "output_type": "execute_result"
    }
   ],
   "source": [
    "statement_2 = my_sentence[-1]\n",
    "statement_2"
   ]
  },
  {
   "cell_type": "code",
   "execution_count": 31,
   "id": "7e38e89a",
   "metadata": {},
   "outputs": [
    {
     "data": {
      "text/plain": [
       "61"
      ]
     },
     "execution_count": 31,
     "metadata": {},
     "output_type": "execute_result"
    }
   ],
   "source": [
    "len(statement_1)"
   ]
  },
  {
   "cell_type": "code",
   "execution_count": 32,
   "id": "849c860c",
   "metadata": {},
   "outputs": [
    {
     "data": {
      "text/plain": [
       "34"
      ]
     },
     "execution_count": 32,
     "metadata": {},
     "output_type": "execute_result"
    }
   ],
   "source": [
    "len(statement)"
   ]
  },
  {
   "cell_type": "code",
   "execution_count": 33,
   "id": "9733ff80",
   "metadata": {},
   "outputs": [
    {
     "data": {
      "text/plain": [
       "False"
      ]
     },
     "execution_count": 33,
     "metadata": {},
     "output_type": "execute_result"
    }
   ],
   "source": [
    "## Q6\n",
    "##Write a code to evaluate if the following statments are True or False.\n",
    "\n",
    "###78 is greater than 46 and less than 30 which is an odd number.\n",
    "\n",
    "###8-2 is an even number or 8 is a is an odd number.\n",
    "\n",
    "####The number of characters in the word 'boostrap' is 7 and that of 'sample' is 6.\n",
    "\n",
    "a = 78\n",
    "b = 46\n",
    "c = 30\n",
    "\n",
    "b < a < c"
   ]
  },
  {
   "cell_type": "code",
   "execution_count": 34,
   "id": "0ed64e6c",
   "metadata": {},
   "outputs": [
    {
     "data": {
      "text/plain": [
       "6"
      ]
     },
     "execution_count": 34,
     "metadata": {},
     "output_type": "execute_result"
    }
   ],
   "source": [
    "a = 8 - 2\n",
    "b = 8\n"
   ]
  },
  {
   "cell_type": "code",
   "execution_count": 37,
   "id": "4bf0db6e",
   "metadata": {},
   "outputs": [
    {
     "data": {
      "text/plain": [
       "True"
      ]
     },
     "execution_count": 37,
     "metadata": {},
     "output_type": "execute_result"
    }
   ],
   "source": [
    "a % 2 == 0 or b % 2 != 0"
   ]
  },
  {
   "cell_type": "code",
   "execution_count": 38,
   "id": "04a49ed4",
   "metadata": {},
   "outputs": [
    {
     "data": {
      "text/plain": [
       "False"
      ]
     },
     "execution_count": 38,
     "metadata": {},
     "output_type": "execute_result"
    }
   ],
   "source": [
    "a = 'bootstrap'\n",
    "b = 'sample'\n",
    "len(a) == 7 and len(b) == 6"
   ]
  },
  {
   "cell_type": "code",
   "execution_count": 39,
   "id": "2740f1a2",
   "metadata": {},
   "outputs": [
    {
     "name": "stdout",
     "output_type": "stream",
     "text": [
      "How\n"
     ]
    }
   ],
   "source": [
    "#Given the following python code,\n",
    "\n",
    "#word='Hello, How are you?'\n",
    "\n",
    "#Write Python code to return the following\n",
    "\n",
    "#How\n",
    "#How are you\n",
    "#are\n",
    "#?\n",
    "#Hello, How are you\n",
    "\n",
    "word = 'Hello, How are you?'\n",
    "\n",
    "# How\n",
    "print(word.split()[1])\n",
    "\n"
   ]
  },
  {
   "cell_type": "code",
   "execution_count": 40,
   "id": "c90735ac",
   "metadata": {},
   "outputs": [
    {
     "name": "stdout",
     "output_type": "stream",
     "text": [
      "How are you?\n"
     ]
    }
   ],
   "source": [
    "word = 'Hello, How are you?'\n",
    "\n",
    "# How are you\n",
    "print(word.split(' ', 1)[1])"
   ]
  },
  {
   "cell_type": "code",
   "execution_count": 41,
   "id": "fbe280bb",
   "metadata": {},
   "outputs": [
    {
     "name": "stdout",
     "output_type": "stream",
     "text": [
      "are\n"
     ]
    }
   ],
   "source": [
    "# are\n",
    "print(word.split()[2])"
   ]
  },
  {
   "cell_type": "code",
   "execution_count": 42,
   "id": "408e22dd",
   "metadata": {},
   "outputs": [
    {
     "name": "stdout",
     "output_type": "stream",
     "text": [
      "?\n"
     ]
    }
   ],
   "source": [
    "# ?\n",
    "print(word[-1])\n",
    "\n"
   ]
  },
  {
   "cell_type": "code",
   "execution_count": 43,
   "id": "3092525a",
   "metadata": {},
   "outputs": [
    {
     "name": "stdout",
     "output_type": "stream",
     "text": [
      "Hello, How are you?\n"
     ]
    }
   ],
   "source": [
    "\n",
    "# Hello, How are you\n",
    "print(word)"
   ]
  },
  {
   "cell_type": "code",
   "execution_count": 45,
   "id": "052d7a39",
   "metadata": {},
   "outputs": [],
   "source": [
    "##Q8\n",
    "##Given the following python code,\n",
    "\n",
    "## sentence = \"I am very excited\"\n"
   ]
  },
  {
   "cell_type": "code",
   "execution_count": 46,
   "id": "6a78009f",
   "metadata": {},
   "outputs": [],
   "source": [
    "##Write Python code to return\n",
    "\n",
    "sentence = \"I am very excited\"\n",
    "\n"
   ]
  },
  {
   "cell_type": "code",
   "execution_count": 48,
   "id": "d0d366a0",
   "metadata": {},
   "outputs": [
    {
     "data": {
      "text/plain": [
       "'I AM VERY EXCITED'"
      ]
     },
     "execution_count": 48,
     "metadata": {},
     "output_type": "execute_result"
    }
   ],
   "source": [
    "# - Convert sentence to upper case\n",
    "sentence.upper()"
   ]
  },
  {
   "cell_type": "code",
   "execution_count": 49,
   "id": "6580bcf8",
   "metadata": {},
   "outputs": [
    {
     "data": {
      "text/plain": [
       "'i am very excited'"
      ]
     },
     "execution_count": 49,
     "metadata": {},
     "output_type": "execute_result"
    }
   ],
   "source": [
    "#- Convert sentence to lower case\n",
    "sentence.lower()"
   ]
  },
  {
   "cell_type": "code",
   "execution_count": 52,
   "id": "cf3bcc4f",
   "metadata": {},
   "outputs": [
    {
     "data": {
      "text/plain": [
       "'I Am Very Excited'"
      ]
     },
     "execution_count": 52,
     "metadata": {},
     "output_type": "execute_result"
    }
   ],
   "source": [
    "#- Convert sentence to title case\n",
    "sentence.title()\n",
    " "
   ]
  },
  {
   "cell_type": "code",
   "execution_count": 54,
   "id": "b9bf459d",
   "metadata": {},
   "outputs": [
    {
     "data": {
      "text/plain": [
       "['I', 'am', 'very', 'excited']"
      ]
     },
     "execution_count": 54,
     "metadata": {},
     "output_type": "execute_result"
    }
   ],
   "source": [
    "#- Convert sentence to list of strings\n",
    "String_list = sentence.split(\" \")\n",
    "String_list"
   ]
  },
  {
   "cell_type": "code",
   "execution_count": 59,
   "id": "bdc6a593",
   "metadata": {},
   "outputs": [
    {
     "data": {
      "text/plain": [
       "'One'"
      ]
     },
     "execution_count": 59,
     "metadata": {},
     "output_type": "execute_result"
    }
   ],
   "source": [
    "#Q9 word = 'OneThirtyEight'\n",
    "\n",
    "#Using Python code extract the following from the variable word:\n",
    "\n",
    "#One\n",
    "\n",
    "word = 'OneThirtyEight'\n",
    "word[:3]\n"
   ]
  },
  {
   "cell_type": "code",
   "execution_count": 62,
   "id": "4271380d",
   "metadata": {},
   "outputs": [
    {
     "data": {
      "text/plain": [
       "'Thirty'"
      ]
     },
     "execution_count": 62,
     "metadata": {},
     "output_type": "execute_result"
    }
   ],
   "source": [
    "#Thirty\n",
    "word[3:9]"
   ]
  },
  {
   "cell_type": "code",
   "execution_count": 63,
   "id": "e1379b7f",
   "metadata": {},
   "outputs": [
    {
     "data": {
      "text/plain": [
       "'Eight'"
      ]
     },
     "execution_count": 63,
     "metadata": {},
     "output_type": "execute_result"
    }
   ],
   "source": [
    "#Eight\n",
    "word[9:]\n"
   ]
  },
  {
   "cell_type": "code",
   "execution_count": 64,
   "id": "c22fe779",
   "metadata": {},
   "outputs": [
    {
     "data": {
      "text/plain": [
       "'OneThirty'"
      ]
     },
     "execution_count": 64,
     "metadata": {},
     "output_type": "execute_result"
    }
   ],
   "source": [
    "#OneThirty\n",
    "word[:9]\n"
   ]
  },
  {
   "cell_type": "code",
   "execution_count": 66,
   "id": "6450ba1d",
   "metadata": {},
   "outputs": [
    {
     "data": {
      "text/plain": [
       "'ThirtyEight'"
      ]
     },
     "execution_count": 66,
     "metadata": {},
     "output_type": "execute_result"
    }
   ],
   "source": [
    "#ThirtyEight\n",
    "word[3:]"
   ]
  },
  {
   "cell_type": "code",
   "execution_count": 68,
   "id": "b187d38a",
   "metadata": {},
   "outputs": [
    {
     "data": {
      "text/plain": [
       "'ONETHIRTYEIGHT'"
      ]
     },
     "execution_count": 68,
     "metadata": {},
     "output_type": "execute_result"
    }
   ],
   "source": [
    "#ONETHIRTYEIGHT\n",
    "capitalized_word = word[:]\n",
    "capitalized_word.upper()\n"
   ]
  },
  {
   "cell_type": "code",
   "execution_count": 73,
   "id": "272f0088",
   "metadata": {},
   "outputs": [
    {
     "data": {
      "text/plain": [
       "\"Ault'Kelly\""
      ]
     },
     "execution_count": 73,
     "metadata": {},
     "output_type": "execute_result"
    }
   ],
   "source": [
    "### Q10Turn Ault'Kelly into a string and assign it to a variable  called name.\n",
    "\n",
    "name = \"Ault'Kelly\"\n",
    "name"
   ]
  },
  {
   "cell_type": "code",
   "execution_count": null,
   "id": "bc4a29b1",
   "metadata": {},
   "outputs": [],
   "source": []
  }
 ],
 "metadata": {
  "kernelspec": {
   "display_name": "Python 3 (ipykernel)",
   "language": "python",
   "name": "python3"
  },
  "language_info": {
   "codemirror_mode": {
    "name": "ipython",
    "version": 3
   },
   "file_extension": ".py",
   "mimetype": "text/x-python",
   "name": "python",
   "nbconvert_exporter": "python",
   "pygments_lexer": "ipython3",
   "version": "3.9.13"
  }
 },
 "nbformat": 4,
 "nbformat_minor": 5
}
