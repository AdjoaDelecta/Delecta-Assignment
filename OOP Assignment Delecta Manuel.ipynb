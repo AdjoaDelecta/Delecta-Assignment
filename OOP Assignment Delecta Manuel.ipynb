{
 "cells": [
  {
   "cell_type": "markdown",
   "id": "0acc2290",
   "metadata": {
    "id": "0acc2290"
   },
   "source": [
    "### OOP Asignment"
   ]
  },
  {
   "cell_type": "markdown",
   "id": "5596f158",
   "metadata": {
    "id": "5596f158"
   },
   "source": [
    "**Kindly read the instructions carefully to solve the problems**\n",
    "\n",
    "**Make good use of try,except,finally and exceptions**"
   ]
  },
  {
   "cell_type": "markdown",
   "id": "478c3dde",
   "metadata": {
    "id": "478c3dde"
   },
   "source": [
    "### Q1 Numbers"
   ]
  },
  {
   "cell_type": "markdown",
   "id": "PPHM5gum2zNf",
   "metadata": {
    "id": "PPHM5gum2zNf"
   },
   "source": []
  },
  {
   "cell_type": "markdown",
   "id": "59ddfbd6",
   "metadata": {
    "id": "59ddfbd6"
   },
   "source": [
    "- Create a Class **Number** initialized with a single number.\n",
    "- Create the following methods for the class:\n",
    "    * check_even : Check if number is an even number (Return True or False)\n",
    "    * check_odd:  Check if number is an odd number (Return True or False)\n",
    "    * check_prime : Check if number is prime number (Return True or False)\n",
    "    * check_perfect: Chek if a number is a perfect square  (Return True or False) eg 100 is a perfect square because 10*10 =100\n",
    "    \n",
    "    "
   ]
  },
  {
   "cell_type": "code",
   "execution_count": 11,
   "id": "RmWMxINifAGx",
   "metadata": {
    "id": "RmWMxINifAGx"
   },
   "outputs": [
    {
     "name": "stdout",
     "output_type": "stream",
     "text": [
      "False\n"
     ]
    }
   ],
   "source": [
    "class Number:\n",
    "    def __init__(self, num):\n",
    "        self.num = num\n",
    "    \n",
    "    def check_even(self):\n",
    "        return self.num % 2 == 0\n",
    "    \n",
    "    def check_odd(self):\n",
    "        return self.num % 2 == 1\n",
    "    \n",
    "    def check_prime(self):\n",
    "        if self.num <= 1:\n",
    "            return False\n",
    "        for i in range(2, int(self.num ** 0.5) + 1):\n",
    "            if self.num % i == 0:\n",
    "                return False\n",
    "        return True\n",
    "    \n",
    "    def check_perfect(self):\n",
    "        return int(self.num ** 0.5) ** 2 == self.num\n",
    "num = Number(25)\n",
    "print(num.check_even())\n"
   ]
  },
  {
   "cell_type": "code",
   "execution_count": 12,
   "id": "ORw3nGLP7mDm",
   "metadata": {
    "id": "ORw3nGLP7mDm"
   },
   "outputs": [
    {
     "name": "stdout",
     "output_type": "stream",
     "text": [
      "True\n"
     ]
    }
   ],
   "source": [
    "num =  Number(25)\n",
    "print(num.check_odd())\n",
    "\n"
   ]
  },
  {
   "cell_type": "markdown",
   "id": "2a88331d",
   "metadata": {
    "id": "2a88331d"
   },
   "source": [
    "### Q2 Points"
   ]
  },
  {
   "cell_type": "markdown",
   "id": "e3ea2034",
   "metadata": {
    "id": "e3ea2034"
   },
   "source": [
    "* Define a class Point that represents a point in the 2D plane. The point has x and y coordinate.\n",
    "* Define the following functions:\n",
    "    - point_2D: return the point in this format \"Point(3,2)\"\n",
    "    - getX : return the value of x coordinate\n",
    "    - getY: return the value of y coordiante\n",
    "    - add_transfrom : add another point to the created point. eg P(1,2)+P(2,3) = P(3,5)\n",
    "    - distance_origin : return the distance from origin(0,0)  ie ((x ** 2)+ (y ** 2)) ** 0.5\n",
    "    - distance: calculate the distance between two point i.e ((x2-x1) ** 2 + (y2-y1) ** 2)**0.5\n",
    "    "
   ]
  },
  {
   "cell_type": "code",
   "execution_count": 14,
   "id": "55vExddR-GjD",
   "metadata": {
    "id": "55vExddR-GjD"
   },
   "outputs": [
    {
     "name": "stdout",
     "output_type": "stream",
     "text": [
      "Point(3,4)\n"
     ]
    }
   ],
   "source": [
    "class Point:\n",
    "    def __init__(self, x, y):\n",
    "        self.x = x\n",
    "        self.y = y\n",
    "\n",
    "    def point_2D(self):\n",
    "        return f\"Point({self.x},{self.y})\"\n",
    "\n",
    "    def getX(self):\n",
    "        return self.x\n",
    "\n",
    "    def getY(self):\n",
    "        return self.y\n",
    "\n",
    "    def add_transform(self, other):\n",
    "        return Point(self.x + other.x, self.y + other.y)\n",
    "\n",
    "    def distance_origin(self):\n",
    "        return ((self.x ** 2) + (self.y ** 2)) ** 0.5\n",
    "\n",
    "    def distance(self, other):\n",
    "        return ((self.x - other.x) ** 2 + (self.y - other.y) ** 2) ** 0.\n"
   ]
  },
  {
   "cell_type": "code",
   "execution_count": null,
   "id": "sUKnib8gBzF_",
   "metadata": {
    "id": "sUKnib8gBzF_"
   },
   "outputs": [],
   "source": []
  },
  {
   "cell_type": "markdown",
   "id": "acf4db9e",
   "metadata": {
    "id": "acf4db9e"
   },
   "source": [
    "### Q3 Polygon Area Calulator"
   ]
  },
  {
   "cell_type": "markdown",
   "id": "18c26367",
   "metadata": {
    "id": "18c26367"
   },
   "source": [
    "- Using OOP create a **Square** and a **Rectangle** class\n"
   ]
  },
  {
   "cell_type": "markdown",
   "id": "a6d80485",
   "metadata": {
    "id": "a6d80485"
   },
   "source": [
    "#### Rectangle Class"
   ]
  },
  {
   "cell_type": "markdown",
   "id": "915caa6c",
   "metadata": {
    "id": "915caa6c"
   },
   "source": [
    "- The rectangle class should be intialized with `width` and `height` attribute only.\n",
    "\n",
    "- The rectangle class should have the following methods:\n",
    "     - set_width\n",
    "     - set_height\n",
    "     - get_area: Returns area (width * height)\n",
    "     - get_perimeter: Returns perimeter (2 * width        + 2 * height)\n",
    "     - get_diagonal: Returns diagonal ((width ** 2        +  height ** 2) ** .5)\n",
    "     - get_amount_inside: Takes another shape (square or rectangle) as an argument. Returns the number of times the passed in shape could fit inside the shape (with no rotations). **For instance, a rectangle with a width of 4 and a height of 8 could fit in two squares with sides of 4.**\n",
    "     \n",
    "    "
   ]
  },
  {
   "cell_type": "code",
   "execution_count": null,
   "id": "9y44qVGXI13I",
   "metadata": {
    "id": "9y44qVGXI13I"
   },
   "outputs": [],
   "source": [
    "class Rectangle:\n",
    "    def __init__(self, width, height):\n",
    "        self.width = width\n",
    "        self.height = height\n",
    "    \n",
    "    def set_width(self, width):\n",
    "        self.width = width\n",
    "    \n",
    "    def set_height(self, height):\n",
    "        self.height = height\n",
    "    \n",
    "    def get_area(self):\n",
    "        return self.width * self.height\n",
    "    \n",
    "    def get_perimeter(self):\n",
    "        return 2 * (self.width + self.height)\n",
    "    \n",
    "    def get_diagonal(self):\n",
    "        return (self.width ** 2 + self.height ** 2) ** 0.5\n",
    "    \n",
    "    def get_amount_inside(self, shape):\n",
    "        if not isinstance(shape, Rectangle):\n",
    "            raise TypeError('Shape must be a rectangle.')\n",
    "        return int(self.get_area() / shape.get_area())\n",
    "\n",
    "class Square(Rectangle):\n",
    "    def __init__(self, side):\n",
    "        super().__init__(side, side)\n",
    "        self.side = side\n",
    "        \n",
    "    def set_side(self, side):\n",
    "        self.side = side\n",
    "        self.width = side\n",
    "        self.height = side\n"
   ]
  },
  {
   "cell_type": "code",
   "execution_count": null,
   "id": "8nQ_XXjUR9gm",
   "metadata": {
    "id": "8nQ_XXjUR9gm"
   },
   "outputs": [],
   "source": []
  },
  {
   "cell_type": "markdown",
   "id": "28d82897",
   "metadata": {
    "id": "28d82897"
   },
   "source": [
    "### Square class\n"
   ]
  },
  {
   "cell_type": "markdown",
   "id": "b8bb7e5d",
   "metadata": {
    "id": "b8bb7e5d"
   },
   "source": [
    "The Square class should be a subclass of Rectangle. When a Square object is created, a single side length is passed in. The __init__ method should store the side length in both the width and height attributes from the Rectangle class."
   ]
  },
  {
   "cell_type": "markdown",
   "id": "58f0d234",
   "metadata": {
    "id": "58f0d234"
   },
   "source": [
    "### Q4 Banking System"
   ]
  },
  {
   "cell_type": "markdown",
   "id": "4a02e285",
   "metadata": {
    "id": "4a02e285"
   },
   "source": [
    "* Using Python OOP lets create a bank account.\n",
    "* The bank account should be initalized with  first name, last name, gender and **balance with default of 0**\n",
    "* The class should have the following methods:\n",
    "  - **information**: Display the user full name and the balance in his/her account\n",
    "    eg **Delali Adrah your balance is GHC20.00**\n",
    "    \n",
    "  - deposit: Ask the user  how much he or she wants to deposit in his/her account.\n",
    "  \n",
    "  - **withdraw**: Ask the user how muh he/she want to withdraw form his/her account. Transations is successfuly only if he/she have more money in his/her account and display **Delali Adrah you have withdrawn GHC10.00 from your account. Your balance is GHC10.00**\n",
    "  -**no_transactions**: Displays the total number of successful transaction(deposit and withdraw). eg **Delali Adrah you have made 1 successful transaction(s)**\n",
    "  "
   ]
  },
  {
   "cell_type": "markdown",
   "id": "c94432a7",
   "metadata": {
    "id": "c94432a7"
   },
   "source": [
    "### Q4 Stacks"
   ]
  },
  {
   "cell_type": "markdown",
   "id": "3fdd4461",
   "metadata": {
    "id": "3fdd4461"
   },
   "source": [
    "A stack is a data structure that stores items in an Last-In/First-Out manner. "
   ]
  },
  {
   "cell_type": "markdown",
   "id": "f0ad4186",
   "metadata": {
    "id": "f0ad4186"
   },
   "source": [
    "1. Create a class Stack with instance variable items initialized to an empty list.\n",
    "2. Define methods push, pop and is_empty inside the class Stack.\n",
    "3. The method push appends data to items.\n",
    "4. The method pop pops the first element in items.\n",
    "5. The method is_empty returns True only if items is empty.\n",
    "6. Method to count the total number of element in the list"
   ]
  },
  {
   "cell_type": "code",
   "execution_count": 15,
   "id": "93aef011",
   "metadata": {
    "id": "93aef011"
   },
   "outputs": [],
   "source": [
    "#Q4 Banking system\n",
    "\n",
    "class BankAccount:\n",
    "    def __init__(self, first_name, last_name, gender, balance=0):\n",
    "        self.first_name = first_name\n",
    "        self.last_name = last_name\n",
    "        self.gender = gender\n",
    "        self.balance = balance\n",
    "        self.num_transactions = 0\n",
    "\n",
    "    def information(self):\n",
    "        print(f\"{self.first_name} {self.last_name}, your balance is GHC{self.balance:.2f}\")\n",
    "\n",
    "    def deposit(self):\n",
    "        amount = float(input(\"How much would you like to deposit? \"))\n",
    "        self.balance += amount\n",
    "        self.num_transactions += 1\n",
    "        print(f\"{self.first_name} {self.last_name}, you have deposited GHC{amount:.2f}. Your balance is GHC{self.balance:.2f}\")\n",
    "\n",
    "    def withdraw(self):\n",
    "        amount = float(input(\"How much would you like to withdraw? \"))\n",
    "        if amount > self.balance:\n",
    "            print(\"Sorry, you do not have enough funds in your account.\")\n",
    "        else:\n",
    "            self.balance -= amount\n",
    "            self.num_transactions += 1\n",
    "            print(f\"{self.first_name} {self.last_name}, you have withdrawn GHC{amount:.2f}. Your balance is GHC{self.balance:.2f}\")\n",
    "\n",
    "    def no_transactions(self):\n",
    "        print(f\"{self.first_name} {self.last_name}, you have made {self.num_transactions} successful transaction(s).\")\n"
   ]
  },
  {
   "cell_type": "code",
   "execution_count": 16,
   "id": "5071e3e4",
   "metadata": {},
   "outputs": [
    {
     "name": "stdout",
     "output_type": "stream",
     "text": [
      "Delali Adrah, your balance is GHC20.00\n"
     ]
    }
   ],
   "source": [
    "account = BankAccount(\"Delali\", \"Adrah\", \"female\", 20)\n",
    "account.information()\n",
    "\n"
   ]
  },
  {
   "cell_type": "code",
   "execution_count": 17,
   "id": "055fddee",
   "metadata": {},
   "outputs": [
    {
     "name": "stdout",
     "output_type": "stream",
     "text": [
      "How much would you like to deposit? 100\n",
      "Delali Adrah, you have deposited GHC100.00. Your balance is GHC120.00\n"
     ]
    }
   ],
   "source": [
    "account.deposit()\n",
    "\n",
    "\n"
   ]
  },
  {
   "cell_type": "code",
   "execution_count": 18,
   "id": "db90a44b",
   "metadata": {},
   "outputs": [
    {
     "name": "stdout",
     "output_type": "stream",
     "text": [
      "How much would you like to withdraw? 70\n",
      "Delali Adrah, you have withdrawn GHC70.00. Your balance is GHC50.00\n"
     ]
    }
   ],
   "source": [
    "account.withdraw()"
   ]
  },
  {
   "cell_type": "code",
   "execution_count": 19,
   "id": "00e475ed",
   "metadata": {},
   "outputs": [
    {
     "name": "stdout",
     "output_type": "stream",
     "text": [
      "How much would you like to withdraw? 20\n",
      "Delali Adrah, you have withdrawn GHC20.00. Your balance is GHC30.00\n"
     ]
    }
   ],
   "source": [
    "account.withdraw()"
   ]
  },
  {
   "cell_type": "code",
   "execution_count": 20,
   "id": "3f03c289",
   "metadata": {},
   "outputs": [
    {
     "name": "stdout",
     "output_type": "stream",
     "text": [
      "Delali Adrah, you have made 3 successful transaction(s).\n"
     ]
    }
   ],
   "source": [
    "account.no_transactions()"
   ]
  },
  {
   "cell_type": "code",
   "execution_count": 23,
   "id": "9cd03712",
   "metadata": {},
   "outputs": [],
   "source": [
    "#Q4 Stacks\n",
    "class Stack:\n",
    "    def __init__(self):\n",
    "        self.items = []\n",
    "        \n",
    "    def push(self, data):\n",
    "        self.items.append(data)\n",
    "        \n",
    "    def pop(self):\n",
    "        if not self.is_empty():\n",
    "            return self.items.pop()\n",
    "        \n",
    "    def is_empty(self):\n",
    "        return len(self.items) == 0\n",
    "    \n",
    "    def count(self):\n",
    "        return len(self.items)\n",
    "stack = Stack()\n"
   ]
  },
  {
   "cell_type": "code",
   "execution_count": null,
   "id": "9ca4cf67",
   "metadata": {},
   "outputs": [],
   "source": []
  },
  {
   "cell_type": "code",
   "execution_count": null,
   "id": "225ff1fa",
   "metadata": {},
   "outputs": [],
   "source": []
  }
 ],
 "metadata": {
  "colab": {
   "provenance": []
  },
  "kernelspec": {
   "display_name": "Python 3 (ipykernel)",
   "language": "python",
   "name": "python3"
  },
  "language_info": {
   "codemirror_mode": {
    "name": "ipython",
    "version": 3
   },
   "file_extension": ".py",
   "mimetype": "text/x-python",
   "name": "python",
   "nbconvert_exporter": "python",
   "pygments_lexer": "ipython3",
   "version": "3.9.13"
  }
 },
 "nbformat": 4,
 "nbformat_minor": 5
}
